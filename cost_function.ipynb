{
 "cells": [
  {
   "cell_type": "markdown",
   "metadata": {},
   "source": [
    "We have the cost function \n",
    "$$Cost(w,b) = \\frac{1}{2N} \\sum_{i=0}^{N-1} (wx_i+b-y_i)^2\n",
    "$$\n",
    "Hence the gradients $dw = \\frac{\\partial C}{\\partial w}$ and $db = \\frac{\\partial C}{\\partial b}$ are given by\n",
    "$$\n",
    "dw = \\frac{1}{N} \\sum (wx_i + b -y_i) x_i  \\\\ \n",
    "db = \\frac{1}{N} \\sum (wx_i + b -y_i)  \n",
    "$$\n"
   ]
  },
  {
   "cell_type": "code",
   "execution_count": 26,
   "metadata": {},
   "outputs": [
    {
     "name": "stdout",
     "output_type": "stream",
     "text": [
      "[0.98627683] 0\n"
     ]
    }
   ],
   "source": [
    "import numpy as np\n",
    "import matplotlib.pyplot as plt\n",
    "\n",
    "def initialize():\n",
    "    np.random.seed(2020)\n",
    "    w=np.random.rand(1)\n",
    "    b=0\n",
    "    return w,b\n",
    "\n",
    "w,b=initialize()    \n",
    "print(w,b)"
   ]
  },
  {
   "cell_type": "code",
   "execution_count": 27,
   "metadata": {},
   "outputs": [],
   "source": [
    "def cost0(w,b):\n",
    "    \"\"\"\n",
    "    define the cost function MSE (mean square error, mean(h-y)**2)) \n",
    "    input : w, b\n",
    "    output : MSE cost \n",
    "    \"\"\"\n",
    "    N=y.shape[0]\n",
    "    c=np.sum((w*x+b-y)**2)/(2*N)\n",
    "    return c\n",
    "\n",
    "# going to view cost as a function of w and b, so we need to vectorize cost0\n",
    "cost = np.vectorize(cost0)"
   ]
  },
  {
   "cell_type": "code",
   "execution_count": 28,
   "metadata": {},
   "outputs": [],
   "source": [
    "N = 100\n",
    "\n",
    "np.random.seed(2020)\n",
    "x = np.random.rand(N, 1)\n",
    "eps=0.5\n",
    "y= 2 + 3 * x  + np.random.rand(N, 1)*eps"
   ]
  },
  {
   "cell_type": "code",
   "execution_count": 29,
   "metadata": {},
   "outputs": [
    {
     "name": "stdout",
     "output_type": "stream",
     "text": [
      "w =  [2.57458247] b =  [2.47732406]\n",
      "final cost =  [0.02167546]\n"
     ]
    },
    {
     "data": {
      "application/vnd.jupyter.widget-view+json": {
       "model_id": "36b84f664d984fcc86f74d26c96bd638",
       "version_major": 2,
       "version_minor": 0
      },
      "text/plain": [
       "Canvas(toolbar=Toolbar(toolitems=[('Home', 'Reset original view', 'home', 'home'), ('Back', 'Back to previous …"
      ]
     },
     "metadata": {},
     "output_type": "display_data"
    },
    {
     "data": {
      "text/plain": [
       "<matplotlib.legend.Legend at 0x7f3bab9530f0>"
      ]
     },
     "execution_count": 29,
     "metadata": {},
     "output_type": "execute_result"
    }
   ],
   "source": [
    "%matplotlib widget\n",
    "\n",
    "########## MAIN FITTING ALGORITHM\n",
    "\n",
    "def fit(x,y,lr=0.01,n_iter=1000):\n",
    "    \"\"\" \n",
    "    Linear regression algorithm to find w and b such that h(x) = w x + b fits best to y.\n",
    "    It also returns the list cost_ of all costs throughout the iterations.\n",
    "    input : data x, target y, learning rate lr, number of iteratin n_iter\n",
    "    output : w,b,cost_\n",
    "    \"\"\"\n",
    "    \n",
    "    w,b=initialize()\n",
    "    cost_=[]\n",
    "    w_=[]\n",
    "    b_=[]\n",
    "    \n",
    "    for _ in range(n_iter):\n",
    "        error = w*x+b - y\n",
    "        dw = (np.dot(x.T, error)/N).reshape(w.shape)\n",
    "        db = sum(error)/N\n",
    "        w = w - lr*dw\n",
    "        b = b - lr*db\n",
    "        costi = cost(w,b)\n",
    "        cost_.append(costi)\n",
    "        w_.append(w)\n",
    "        b_.append(b)\n",
    "    return cost_, w_, b_\n",
    "\n",
    "############# START LINEAR REGRESSION\n",
    "\n",
    "cost_,w_,b_=fit(x, y, lr=0.01, n_iter=500)\n",
    "\n",
    "print('w = ',w_[-1],'b = ',b_[-1])\n",
    "print('final cost = ',cost_[-1])\n",
    "plt.plot(cost_,label='cost')  \n",
    "plt.plot(w_,label='w')\n",
    "plt.plot(b_,label='b')\n",
    "plt.legend()"
   ]
  },
  {
   "cell_type": "code",
   "execution_count": 30,
   "metadata": {},
   "outputs": [
    {
     "name": "stdout",
     "output_type": "stream",
     "text": [
      "w =  [2.57458247] b =  [2.47732406]\n",
      "final cost =  [0.02167546]\n"
     ]
    },
    {
     "data": {
      "application/vnd.jupyter.widget-view+json": {
       "model_id": "66554236e4f046b7b002cf43ff943597",
       "version_major": 2,
       "version_minor": 0
      },
      "text/plain": [
       "Canvas(toolbar=Toolbar(toolitems=[('Home', 'Reset original view', 'home', 'home'), ('Back', 'Back to previous …"
      ]
     },
     "metadata": {},
     "output_type": "display_data"
    }
   ],
   "source": [
    "w, b = w_[-1], b_[-1]\n",
    "print('w = ',w,'b = ',b)\n",
    "print('final cost = ',cost_[-1])\n",
    "plt.figure()\n",
    "plt.scatter(x,y,s=3)\n",
    "plt.xlabel('x')\n",
    "plt.ylabel('y')\n",
    "t=np.linspace(0,1,100)\n",
    "s = w*t + b\n",
    "plt.plot(t,s,'r')\n",
    "plt.show()"
   ]
  }
 ],
 "metadata": {
  "kernelspec": {
   "display_name": "Python 3",
   "language": "python",
   "name": "python3"
  },
  "language_info": {
   "codemirror_mode": {
    "name": "ipython",
    "version": 3
   },
   "file_extension": ".py",
   "mimetype": "text/x-python",
   "name": "python",
   "nbconvert_exporter": "python",
   "pygments_lexer": "ipython3",
   "version": "3.7.3"
  }
 },
 "nbformat": 4,
 "nbformat_minor": 4
}
