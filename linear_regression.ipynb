{
 "cells": [
  {
   "cell_type": "markdown",
   "metadata": {},
   "source": [
    "# 신봉근-6-1\n",
    "## 3차원 선형회귀 \n",
    "#### 정의역이 3차원인 3차원 평면 v = ax+ by+ cz + d 에 epsilon 만큼 변화를 준 데이터를 생성하고 network를 구성하여 linear regression 해보기."
   ]
  },
  {
   "cell_type": "code",
   "execution_count": 1,
   "metadata": {},
   "outputs": [],
   "source": [
    "import numpy as np"
   ]
  },
  {
   "cell_type": "markdown",
   "metadata": {},
   "source": [
    "#### 무작위 데이터 생성하기  \n",
    "> 샘플 개수 : 100  \n",
    "> 차원 개수 : 3  \n"
   ]
  },
  {
   "cell_type": "markdown",
   "metadata": {},
   "source": [
    "##### v = ax+ by+ cz + d"
   ]
  },
  {
   "cell_type": "code",
   "execution_count": 2,
   "metadata": {},
   "outputs": [],
   "source": [
    "# 데이터셋을 만들 랜덤 수 생성 함수\n",
    "\n",
    "def coefficient_init():\n",
    "    a, b, c = np.random.rand(3)\n",
    "    d = np.random.rand()*3\n",
    "    return a, b, c, d\n",
    "\n",
    "def input_init(N):\n",
    "    X, Y, Z = np.random.rand(3, N)\n",
    "    return X, Y, Z"
   ]
  },
  {
   "cell_type": "code",
   "execution_count": 3,
   "metadata": {},
   "outputs": [],
   "source": [
    "# 데이터셋 변수 초기화 \n",
    "\n",
    "np.random.seed(10)\n",
    "N = 100\n",
    "epsilon = 0.5\n",
    "\n",
    "a, b, c, d = coefficient_init()\n",
    "x, y, z = input_init(N)"
   ]
  },
  {
   "cell_type": "code",
   "execution_count": 4,
   "metadata": {},
   "outputs": [],
   "source": [
    "# 데이터셋(v) 생성 \n",
    "\n",
    "v = a*x + b*y + c*z + d + (np.random.rand() - 0.5)*epsilon"
   ]
  },
  {
   "cell_type": "markdown",
   "metadata": {},
   "source": [
    "#### 임의의 weight과 bias, 그리고 cost function 정의\n",
    "> w : (3, )\n",
    "> b : (1, )\n",
    "> cost function : y - (wX + b)"
   ]
  },
  {
   "cell_type": "code",
   "execution_count": 5,
   "metadata": {},
   "outputs": [],
   "source": [
    "# linear prediction variable 생성\n",
    "\n",
    "X = np.array([x, y, z]).T\n",
    "W = np.random.rand(3)\n",
    "b = 0"
   ]
  },
  {
   "cell_type": "markdown",
   "metadata": {},
   "source": [
    "#### 훈련 함수 정의"
   ]
  },
  {
   "cell_type": "code",
   "execution_count": 6,
   "metadata": {},
   "outputs": [],
   "source": [
    "# 경사하강법을 이용한 W, b 학습 함수 정의\n",
    "# W : weight, X : input, b : bias, epoch : 학습 횟수, lr : 학습률(learning rate)\n",
    "\n",
    "def train(W, X, b, epoch, lr = 0.01):\n",
    "    np.random.seed(10)\n",
    "    W = np.random.rand(1, 3)\n",
    "    b = 0\n",
    "    \n",
    "    # epoch 횟수 동안 W, b 파라미터 조정\n",
    "    for i in range(1, epoch+1):\n",
    "        cost = (W@X.T + b) - v\n",
    "        \n",
    "        # 1000번 반복할 때 마다 W, b 출력\n",
    "        if(i % 1000 == 0):\n",
    "            print(f\"{i}th epoch\")\n",
    "            print(f\"W : {W}, b : {b}\")\n",
    "            print(\"cost : \", np.mean(cost), end='\\n\\n')\n",
    "            \n",
    "        # W, b를 미분\n",
    "        dW = cost@X/X.shape[1]\n",
    "        db = np.mean(cost)\n",
    "        \n",
    "        # 현재값 - 학습률*미분값으로 cost값 줄이기 \n",
    "        W = W - lr*dW \n",
    "        b = b - lr*db\n",
    "    \n",
    "    return cost, W, b"
   ]
  },
  {
   "cell_type": "markdown",
   "metadata": {},
   "source": [
    "#### 학습"
   ]
  },
  {
   "cell_type": "code",
   "execution_count": 7,
   "metadata": {},
   "outputs": [
    {
     "name": "stdout",
     "output_type": "stream",
     "text": [
      "1000th epoch\n",
      "W : [[1.40780535 0.52578207 1.15701544]], b : 1.4806573497803617\n",
      "cost :  -0.08431424139061491\n",
      "\n",
      "2000th epoch\n",
      "W : [[1.01917032 0.21741269 0.83744951]], b : 2.026772796187108\n",
      "cost :  -0.03283230081548691\n",
      "\n",
      "3000th epoch\n",
      "W : [[0.86783429 0.09733242 0.71300926]], b : 2.239432322272898\n",
      "cost :  -0.01278502847276703\n",
      "\n",
      "4000th epoch\n",
      "W : [[0.80890344 0.05057269 0.66455173]], b : 2.3222427872260423\n",
      "cost :  -0.004978540918227376\n",
      "\n",
      "5000th epoch\n",
      "W : [[0.78595553 0.03236426 0.64568218]], b : 2.3544895115180418\n",
      "cost :  -0.0019386636273249235\n",
      "\n",
      "6000th epoch\n",
      "W : [[0.77701953 0.02527383 0.6383343 ]], b : 2.3670465141644175\n",
      "cost :  -0.0007549233242517417\n",
      "\n",
      "7000th epoch\n",
      "W : [[0.77353981 0.02251279 0.63547301]], b : 2.3719362609192594\n",
      "cost :  -0.00029397014390053044\n",
      "\n",
      "8000th epoch\n",
      "W : [[0.7721848  0.02143763 0.63435881]], b : 2.3738403477463312\n",
      "cost :  -0.00011447314280627286\n",
      "\n",
      "9000th epoch\n",
      "W : [[0.77165715 0.02101895 0.63392494]], b : 2.374581806727092\n",
      "cost :  -4.4576296933453995e-05\n",
      "\n",
      "10000th epoch\n",
      "W : [[0.77145168 0.02085592 0.63375598]], b : 2.3748705338021074\n",
      "cost :  -1.7358187252907166e-05\n",
      "\n"
     ]
    }
   ],
   "source": [
    "# 학습시키기 \n",
    "\n",
    "# W, X, b = init()\n",
    "cost, W, b = train(W, X, b, 10000)"
   ]
  },
  {
   "cell_type": "markdown",
   "metadata": {},
   "source": [
    "#### 결과출력"
   ]
  },
  {
   "cell_type": "code",
   "execution_count": 10,
   "metadata": {},
   "outputs": [
    {
     "name": "stdout",
     "output_type": "stream",
     "text": [
      "final cost :  -1.7358187252907166e-05\n",
      "final Weight :  [0.77145156 0.02085582 0.63375588]\n",
      "final bias :  2.37487070738398\n"
     ]
    }
   ],
   "source": [
    "# 최종 cost, 가중치, 편향 값 출력\n",
    "\n",
    "print(\"final cost : \", np.mean(cost))\n",
    "print(\"final Weight : \", np.squeeze(W))\n",
    "print(\"final bias : \", b)"
   ]
  },
  {
   "cell_type": "code",
   "execution_count": null,
   "metadata": {},
   "outputs": [],
   "source": []
  }
 ],
 "metadata": {
  "kernelspec": {
   "display_name": "Python 3",
   "language": "python",
   "name": "python3"
  },
  "language_info": {
   "codemirror_mode": {
    "name": "ipython",
    "version": 3
   },
   "file_extension": ".py",
   "mimetype": "text/x-python",
   "name": "python",
   "nbconvert_exporter": "python",
   "pygments_lexer": "ipython3",
   "version": "3.7.3"
  }
 },
 "nbformat": 4,
 "nbformat_minor": 4
}
